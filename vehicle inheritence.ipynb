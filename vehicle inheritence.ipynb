{
 "cells": [
  {
   "cell_type": "markdown",
   "metadata": {},
   "source": [
    "Create a Vehicle class with max_speed and mileage instance attributes\n",
    "Create a child class Bus that will inherit all of the variables and methods of the Vehicle class\n",
    "Create a Bus child class that inherits from the Vehicle class. The default fare charge of any vehicle is seating capacity * 100. If Vehicle is Bus instance, we need to add an extra 10% on full fare as a maintenance charge. So total fare for bus instance will become the final amount = total fare + 10% of the total fare."
   ]
  },
  {
   "cell_type": "code",
   "execution_count": 4,
   "metadata": {},
   "outputs": [],
   "source": [
    "class vehicle:\n",
    "    def __init__(self,max_speed,mileage,sc):\n",
    "        self.max_speed=max_speed\n",
    "        self.mileage=mileage\n",
    "        self.seating_capacity=sc\n",
    "    def calc_charge(self):\n",
    "        print(\"The default fare charge:\",self.seating_capacity*100)\n",
    "    def disp(self):\n",
    "        print(\"maximum speed:\",self.max_speed)\n",
    "        print(\"mileage:\",self.mileage)\n",
    "        print(\"seating capacity:\",self.seating_capacity)\n",
    "class bus(vehicle):\n",
    "        def __init__(self,max_speed,mileage,sc):\n",
    "            super().__init__(max_speed,mileage,sc)\n",
    "        def calc_charge(self):\n",
    "            tot_fare=self.seating_capacity*100\n",
    "            print(\"The default fare charge:\",tot_fare)\n",
    "            print(\"Total fare:\",tot_fare+(.10*tot_fare))\n",
    "\n"
   ]
  },
  {
   "cell_type": "code",
   "execution_count": 5,
   "metadata": {},
   "outputs": [
    {
     "name": "stdout",
     "output_type": "stream",
     "text": [
      "The default fare charge: 5000\n",
      "maximum speed: 1000\n",
      "mileage: 14\n",
      "seating capacity: 50\n"
     ]
    }
   ],
   "source": [
    "v=vehicle(1000,14,50)\n",
    "v.calc_charge()\n",
    "v.disp()"
   ]
  },
  {
   "cell_type": "code",
   "execution_count": 6,
   "metadata": {},
   "outputs": [
    {
     "name": "stdout",
     "output_type": "stream",
     "text": [
      "The default fare charge: 10000\n",
      "Total fare: 11000.0\n",
      "maximum speed: 100\n",
      "mileage: 10\n",
      "seating capacity: 100\n"
     ]
    }
   ],
   "source": [
    "b=bus(100,10,100)\n",
    "b.calc_charge()\n",
    "b.disp()"
   ]
  },
  {
   "cell_type": "code",
   "execution_count": null,
   "metadata": {},
   "outputs": [],
   "source": []
  }
 ],
 "metadata": {
  "kernelspec": {
   "display_name": "Python 3",
   "language": "python",
   "name": "python3"
  },
  "language_info": {
   "codemirror_mode": {
    "name": "ipython",
    "version": 3
   },
   "file_extension": ".py",
   "mimetype": "text/x-python",
   "name": "python",
   "nbconvert_exporter": "python",
   "pygments_lexer": "ipython3",
   "version": "3.7.6"
  }
 },
 "nbformat": 4,
 "nbformat_minor": 4
}
