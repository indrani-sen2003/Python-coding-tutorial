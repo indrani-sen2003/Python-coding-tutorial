{
 "cells": [
  {
   "cell_type": "raw",
   "metadata": {},
   "source": [
    "/*find if a string starts with digit*/\n"
   ]
  },
  {
   "cell_type": "code",
   "execution_count": 2,
   "metadata": {},
   "outputs": [
    {
     "name": "stdout",
     "output_type": "stream",
     "text": [
      "Valid string\n"
     ]
    }
   ],
   "source": [
    "import re\n",
    "str=\"1Indrani\"\n",
    "if re.search(\"^[0-9]\",str):\n",
    "    print(\"Valid string\")\n",
    "else:\n",
    "    print(\"invalid string\")\n",
    "\n"
   ]
  },
  {
   "cell_type": "code",
   "execution_count": 3,
   "metadata": {},
   "outputs": [],
   "source": [
    "#find if a string ends with digit\n"
   ]
  },
  {
   "cell_type": "code",
   "execution_count": 4,
   "metadata": {},
   "outputs": [
    {
     "name": "stdout",
     "output_type": "stream",
     "text": [
      "Valid string\n"
     ]
    }
   ],
   "source": [
    "import re\n",
    "str=\"Indrani2\"\n",
    "if re.search(\"[0-9]$\",str):\n",
    "    print(\"Valid string\")\n",
    "else:\n",
    "    print(\"invalid string\")\n"
   ]
  },
  {
   "cell_type": "raw",
   "metadata": {},
   "source": [
    "#find if a string contains any of the characters $,#,@\n"
   ]
  },
  {
   "cell_type": "code",
   "execution_count": 5,
   "metadata": {},
   "outputs": [
    {
     "name": "stdout",
     "output_type": "stream",
     "text": [
      "invalid string\n"
     ]
    }
   ],
   "source": [
    "import re\n",
    "str=\"Indrani?\"\n",
    "if re.search(\"[$|#|@]\",str):\n",
    "    print(\"Valid string\")\n",
    "else:\n",
    "    print(\"invalid string\")\n"
   ]
  },
  {
   "cell_type": "raw",
   "metadata": {},
   "source": [
    "Minimum 8 characters.\n",
    "The alphabets must be between [a-z]\n",
    "At least 1 number or digit between [0-9].\n",
    "It should end with @"
   ]
  },
  {
   "cell_type": "code",
   "execution_count": 5,
   "metadata": {},
   "outputs": [],
   "source": [
    "import re"
   ]
  },
  {
   "cell_type": "code",
   "execution_count": null,
   "metadata": {},
   "outputs": [],
   "source": [
    "pass1=input(\"Enter string\")"
   ]
  },
  {
   "cell_type": "code",
   "execution_count": null,
   "metadata": {},
   "outputs": [],
   "source": [
    "flag=0"
   ]
  },
  {
   "cell_type": "code",
   "execution_count": null,
   "metadata": {},
   "outputs": [],
   "source": [
    "while True:\n",
    "    if len(pass1)<8:\n",
    "        flag=1\n",
    "        print(\"The length of string minimum 8 characters\")\n",
    "        break\n",
    "    elif not re.search(\"[a-z]\",pass1):\n",
    "        print(\"The password does not contain small letters\")\n",
    "        flag=1\n",
    "        break\n",
    "    \n",
    "    elif not re.search(\"[0-9]\",pass1):\n",
    "        print(\"The password does not contain numbers\")\n",
    "        flag=1\n",
    "        break\n",
    "    elif not re.search(\"@$\",pass1):\n",
    "        flag=1\n",
    "        print(\"The password does not end with alpha numeric characters\")\n",
    "        break\n",
    "    elif flag==0:\n",
    "        print(\"Valid password\")\n",
    "        break\n",
    "    else:\n",
    "        break\n",
    "if flag==1:\n",
    "    print(\"Invalid password\")\n",
    "    \n",
    "        \n",
    "    "
   ]
  },
  {
   "cell_type": "code",
   "execution_count": null,
   "metadata": {},
   "outputs": [],
   "source": []
  },
  {
   "cell_type": "code",
   "execution_count": null,
   "metadata": {},
   "outputs": [],
   "source": []
  }
 ],
 "metadata": {
  "kernelspec": {
   "display_name": "Python 3",
   "language": "python",
   "name": "python3"
  },
  "language_info": {
   "codemirror_mode": {
    "name": "ipython",
    "version": 3
   },
   "file_extension": ".py",
   "mimetype": "text/x-python",
   "name": "python",
   "nbconvert_exporter": "python",
   "pygments_lexer": "ipython3",
   "version": "3.7.3"
  }
 },
 "nbformat": 4,
 "nbformat_minor": 2
}
