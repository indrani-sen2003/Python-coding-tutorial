{
 "cells": [
  {
   "cell_type": "code",
   "execution_count": 3,
   "metadata": {},
   "outputs": [
    {
     "name": "stdout",
     "output_type": "stream",
     "text": [
      "Enter a string?nayan\n",
      "the string is palindrome\n",
      "nayan\n"
     ]
    }
   ],
   "source": [
    "#program to check whether a given string is palindrome or not\n",
    "s=input(\"Enter a string?\")\n",
    "s1=s[::-1]\n",
    "if s==s1:\n",
    "    print(\"the string is palindrome\")\n",
    "else:\n",
    "    print(\"the string is not palindrome\")\n",
    "print(s1)"
   ]
  },
  {
   "cell_type": "code",
   "execution_count": 7,
   "metadata": {},
   "outputs": [
    {
     "name": "stdout",
     "output_type": "stream",
     "text": [
      "Enter a string?Its a beautiful Sunday Evening\n",
      " stI a lufituaeb yadnuS gninevE\n"
     ]
    }
   ],
   "source": [
    "#program to reverse the words in a given string\n",
    "li_rev=[]\n",
    "s=input(\"Enter a string?\")\n",
    "li_words=s.split(\" \")\n",
    "for i in li_words:\n",
    "    li_rev.append(i[::-1])\n",
    "\n",
    "s1=\"\"\n",
    "for i in li_rev:\n",
    "    s1=s1+\" \"+i\n",
    "print(s1)\n",
    "    "
   ]
  },
  {
   "cell_type": "code",
   "execution_count": 9,
   "metadata": {},
   "outputs": [
    {
     "name": "stdout",
     "output_type": "stream",
     "text": [
      "Enter a string :Indrani\n",
      "Enter the position of the character to be removed?2\n",
      "Inrani\n"
     ]
    }
   ],
   "source": [
    "#remove the ith character from the string in Python\n",
    "s1=input(\"Enter a string :\")\n",
    "x=int(input(\"Enter the position of the character to be removed?\"))\n",
    "s2=\"\"\n",
    "for i in range(0,len(s1)):\n",
    "    if i==x:\n",
    "       \n",
    "        continue\n",
    "    s2=s2+s1[i]\n",
    "print(s2)\n",
    "    "
   ]
  },
  {
   "cell_type": "code",
   "execution_count": 12,
   "metadata": {},
   "outputs": [
    {
     "name": "stdout",
     "output_type": "stream",
     "text": [
      "red-green-blue\n"
     ]
    }
   ],
   "source": [
    "#Join the elements of a list using -\n",
    "li=[\"red\",\"green\",\"blue\"]\n",
    "s=\"-\"\n",
    "s=s.join(li)\n",
    "print(s)"
   ]
  },
  {
   "cell_type": "code",
   "execution_count": null,
   "metadata": {},
   "outputs": [],
   "source": [
    "#Python program to print even length words in a string\n",
    "s=input(\"Enter a string:\")\n",
    "li_words=s.split(\" \")\n",
    "for i in li_words:\n",
    "    if len(i)%2==0:\n",
    "        print(i)\n"
   ]
  },
  {
   "cell_type": "code",
   "execution_count": 3,
   "metadata": {},
   "outputs": [
    {
     "name": "stdout",
     "output_type": "stream",
     "text": [
      "Enter a string?The quick brown fox jumps over the lazy dog\n",
      "['a', 'b', 'c', 'd', 'e', 'e', 'e', 'f', 'g', 'h', 'h', 'i', 'j', 'k', 'l', 'm', 'n', 'o', 'o', 'o', 'o', 'p', 'q', 'r', 'r', 's', 't', 't', 'u', 'u', 'v', 'w', 'x', 'y', 'z']\n",
      "97\n",
      "98\n",
      "99\n",
      "100\n",
      "101\n",
      "101\n",
      "101\n",
      "102\n",
      "103\n",
      "104\n",
      "104\n",
      "105\n",
      "106\n",
      "107\n",
      "108\n",
      "109\n",
      "110\n",
      "111\n",
      "111\n",
      "111\n",
      "111\n",
      "112\n",
      "113\n",
      "114\n",
      "114\n",
      "115\n",
      "116\n",
      "116\n",
      "117\n",
      "117\n",
      "118\n",
      "119\n",
      "120\n",
      "121\n",
      "122\n",
      "string is pangram\n"
     ]
    }
   ],
   "source": [
    "#Pangram is a sentence containing every letter of the alphabet.97 to 122 is alphabet\n",
    "#The quick brown fox jumps over the lazy dog \n",
    "s=input(\"Enter a string?\")\n",
    "s=s.lower()\n",
    "li_al=['a', 'b', 'c', 'd', 'e', 'e', 'e', 'f', 'g', 'h', 'h', 'i', 'j', 'k', 'l', 'm', 'n', 'o', 'o', 'o', 'o', 'p', 'q', 'r', 'r', 's', 't', 't', 'u', 'u', 'v', 'w', 'x', 'y', 'z']\n",
    "li_word=s.split(\" \")\n",
    "s1=\"\"\n",
    "for i in li_word:\n",
    "    s1+=i\n",
    "li_sorted=sorted(s1)\n",
    "print(li_sorted)\n",
    "for i in li_sorted:\n",
    "    print(ord(i))\n",
    "if li_al==li_sorted:\n",
    "    print(\"string is pangram\")"
   ]
  },
  {
   "cell_type": "code",
   "execution_count": null,
   "metadata": {},
   "outputs": [],
   "source": []
  },
  {
   "cell_type": "code",
   "execution_count": null,
   "metadata": {},
   "outputs": [],
   "source": []
  }
 ],
 "metadata": {
  "kernelspec": {
   "display_name": "Python 3",
   "language": "python",
   "name": "python3"
  },
  "language_info": {
   "codemirror_mode": {
    "name": "ipython",
    "version": 3
   },
   "file_extension": ".py",
   "mimetype": "text/x-python",
   "name": "python",
   "nbconvert_exporter": "python",
   "pygments_lexer": "ipython3",
   "version": "3.7.6"
  }
 },
 "nbformat": 4,
 "nbformat_minor": 4
}
