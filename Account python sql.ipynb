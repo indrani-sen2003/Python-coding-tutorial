{
 "cells": [
  {
   "cell_type": "code",
   "execution_count": 1,
   "metadata": {},
   "outputs": [],
   "source": [
    "import mysql.connector"
   ]
  },
  {
   "cell_type": "code",
   "execution_count": 2,
   "metadata": {},
   "outputs": [],
   "source": [
    "db=mysql.connector.connect(user=\"root\", password=\"Savarkar123@\", database=\"college\",host=\"localhost\",auth_plugin=\"mysql_native_password\")"
   ]
  },
  {
   "cell_type": "code",
   "execution_count": 3,
   "metadata": {},
   "outputs": [],
   "source": [
    "cursor1=db.cursor()"
   ]
  },
  {
   "cell_type": "code",
   "execution_count": 4,
   "metadata": {},
   "outputs": [],
   "source": [
    "sql= \"show tables\""
   ]
  },
  {
   "cell_type": "code",
   "execution_count": 5,
   "metadata": {},
   "outputs": [],
   "source": [
    "cursor1.execute(sql)"
   ]
  },
  {
   "cell_type": "code",
   "execution_count": 6,
   "metadata": {},
   "outputs": [],
   "source": [
    "rs=cursor1.fetchall()"
   ]
  },
  {
   "cell_type": "code",
   "execution_count": 7,
   "metadata": {},
   "outputs": [
    {
     "name": "stdout",
     "output_type": "stream",
     "text": [
      "[('account',), ('course',), ('emp',), ('student',)]\n"
     ]
    }
   ],
   "source": [
    "print(rs)"
   ]
  },
  {
   "cell_type": "code",
   "execution_count": 10,
   "metadata": {},
   "outputs": [
    {
     "name": "stdout",
     "output_type": "stream",
     "text": [
      "('account',)\n",
      "('course',)\n",
      "('emp',)\n",
      "('student',)\n"
     ]
    }
   ],
   "source": [
    "for i in rs:\n",
    "    print(i)"
   ]
  },
  {
   "cell_type": "code",
   "execution_count": 9,
   "metadata": {},
   "outputs": [],
   "source": [
    "cursor2=db.cursor()\n",
    "sql2=\"select * from student\""
   ]
  },
  {
   "cell_type": "code",
   "execution_count": 10,
   "metadata": {},
   "outputs": [],
   "source": [
    "cursor2.execute(sql2)"
   ]
  },
  {
   "cell_type": "code",
   "execution_count": 11,
   "metadata": {},
   "outputs": [],
   "source": [
    "rs=cursor2.fetchall()"
   ]
  },
  {
   "cell_type": "code",
   "execution_count": 12,
   "metadata": {},
   "outputs": [
    {
     "name": "stdout",
     "output_type": "stream",
     "text": [
      "(30, 'Inka', 'Brakpan', 'SC01', '5', 'B')\n",
      "(201, 'Kaya', 'Boksburg', 'SC02', '5', 'B')\n",
      "(307, 'Ramola', 'Johannesburg', 'COM01', '4', 'B')\n",
      "(309, 'Mohan', 'Pretoria', 'COM01', '4', 'B')\n"
     ]
    }
   ],
   "source": [
    "for i in rs:\n",
    "    print(i)"
   ]
  },
  {
   "cell_type": "code",
   "execution_count": 13,
   "metadata": {},
   "outputs": [],
   "source": [
    "sql3=\"select * from student where address like '\"+ \"%burg\"+\"'\""
   ]
  },
  {
   "cell_type": "code",
   "execution_count": 14,
   "metadata": {},
   "outputs": [
    {
     "name": "stdout",
     "output_type": "stream",
     "text": [
      "select * from student where address like '%burg'\n"
     ]
    }
   ],
   "source": [
    "print(sql3)"
   ]
  },
  {
   "cell_type": "code",
   "execution_count": 15,
   "metadata": {},
   "outputs": [],
   "source": [
    "cursor3=db.cursor()"
   ]
  },
  {
   "cell_type": "code",
   "execution_count": 16,
   "metadata": {},
   "outputs": [],
   "source": [
    "cursor3.execute(sql3)"
   ]
  },
  {
   "cell_type": "code",
   "execution_count": 17,
   "metadata": {},
   "outputs": [],
   "source": [
    "rs=cursor3.fetchall()"
   ]
  },
  {
   "cell_type": "code",
   "execution_count": 18,
   "metadata": {},
   "outputs": [
    {
     "name": "stdout",
     "output_type": "stream",
     "text": [
      "(201, 'Kaya', 'Boksburg', 'SC02', '5', 'B')\n",
      "(307, 'Ramola', 'Johannesburg', 'COM01', '4', 'B')\n"
     ]
    }
   ],
   "source": [
    "for i in rs:\n",
    "    print(i)"
   ]
  },
  {
   "cell_type": "code",
   "execution_count": 19,
   "metadata": {},
   "outputs": [],
   "source": [
    "#sql4=\"create table account(acno int,acname varchar(10),type varchar(10),balance bigint)\""
   ]
  },
  {
   "cell_type": "code",
   "execution_count": 20,
   "metadata": {},
   "outputs": [],
   "source": [
    "#cursor4=db.cursor()"
   ]
  },
  {
   "cell_type": "code",
   "execution_count": 22,
   "metadata": {},
   "outputs": [],
   "source": [
    "#cursor4.execute(sql4)"
   ]
  },
  {
   "cell_type": "code",
   "execution_count": null,
   "metadata": {},
   "outputs": [],
   "source": [
    "#sql5=\"insert into account values(1001,'peter','savings',5000)\""
   ]
  },
  {
   "cell_type": "code",
   "execution_count": null,
   "metadata": {},
   "outputs": [],
   "source": [
    "#print(sql5)"
   ]
  },
  {
   "cell_type": "code",
   "execution_count": null,
   "metadata": {},
   "outputs": [],
   "source": [
    "#cursor5=db.cursor()"
   ]
  },
  {
   "cell_type": "code",
   "execution_count": null,
   "metadata": {},
   "outputs": [],
   "source": [
    "#cursor5.execute(sql5)"
   ]
  },
  {
   "cell_type": "code",
   "execution_count": null,
   "metadata": {},
   "outputs": [],
   "source": [
    "#cursor5.execute(\"commit\")"
   ]
  },
  {
   "cell_type": "code",
   "execution_count": null,
   "metadata": {},
   "outputs": [],
   "source": [
    "acno=int(input(\"Enter Account number\"))\n",
    "acname=input(\"Enter account name\")\n",
    "vtype=input(\"Enter type of account\")\n",
    "bal=int(input(\"Enter balance\"))\n",
    "\n",
    "sql6=\"insert into account values(\"+str(acno) + \",'\"+ acname + \"',\"+ \"'\"+vtype + \"',\"+ str(bal) +\")\""
   ]
  },
  {
   "cell_type": "code",
   "execution_count": null,
   "metadata": {},
   "outputs": [],
   "source": [
    "print(sql6)"
   ]
  },
  {
   "cell_type": "code",
   "execution_count": 12,
   "metadata": {},
   "outputs": [
    {
     "name": "stdout",
     "output_type": "stream",
     "text": [
      "Enter Account number1009\n",
      "Enter account namesaby\n",
      "Enter type of accountsavings\n",
      "Enter balance45000\n"
     ]
    }
   ],
   "source": [
    "acno=int(input(\"Enter Account number\"))\n",
    "acname=input(\"Enter account name\")\n",
    "vtype=input(\"Enter type of account\")\n",
    "bal=int(input(\"Enter balance\"))\n",
    "sql6=\"insert into account values(\"+str(acno) + \",'\"+ acname + \"',\"+ \"'\"+vtype + \"',\"+ str(bal) +\")\""
   ]
  },
  {
   "cell_type": "code",
   "execution_count": 13,
   "metadata": {},
   "outputs": [
    {
     "name": "stdout",
     "output_type": "stream",
     "text": [
      "insert into account values(1009,'saby','savings',45000)\n"
     ]
    }
   ],
   "source": [
    "print(sql6)"
   ]
  },
  {
   "cell_type": "code",
   "execution_count": 14,
   "metadata": {},
   "outputs": [],
   "source": [
    "cursor6=db.cursor()\n",
    "cursor6.execute(sql6)"
   ]
  },
  {
   "cell_type": "code",
   "execution_count": 15,
   "metadata": {},
   "outputs": [],
   "source": [
    "cursor6.execute(\"commit\")"
   ]
  },
  {
   "cell_type": "code",
   "execution_count": 29,
   "metadata": {},
   "outputs": [
    {
     "name": "stdout",
     "output_type": "stream",
     "text": [
      "Enter Account number1010\n",
      "Enter account namesavoir\n",
      "Enter type of accountcurrent\n",
      "Enter balance56000\n"
     ]
    }
   ],
   "source": [
    "acno=int(input(\"Enter Account number\"))\n",
    "acname=input(\"Enter account name\")\n",
    "vtype=input(\"Enter type of account\")\n",
    "bal=int(input(\"Enter balance\"))\n",
    "sql6= \"select insert_ac1({0},'{1}','{2}',{3})\".format(acno,acname,vtype,bal)\n"
   ]
  },
  {
   "cell_type": "code",
   "execution_count": 30,
   "metadata": {},
   "outputs": [
    {
     "name": "stdout",
     "output_type": "stream",
     "text": [
      "select insert_ac1(1010,'savoir','current',56000)\n"
     ]
    }
   ],
   "source": [
    "print(sql6)"
   ]
  },
  {
   "cell_type": "code",
   "execution_count": 39,
   "metadata": {},
   "outputs": [],
   "source": [
    "db1=mysql.connector.connect(user=\"root\", password=\"Savarkar123@\", database=\"college\",host=\"localhost\",\n",
    "                            auth_plugin=\"mysql_native_password\")\n",
    "\n",
    "\n"
   ]
  },
  {
   "cell_type": "code",
   "execution_count": 40,
   "metadata": {},
   "outputs": [],
   "source": [
    "cursor7=db1.cursor(buffered=True)"
   ]
  },
  {
   "cell_type": "code",
   "execution_count": 41,
   "metadata": {},
   "outputs": [],
   "source": [
    "cursor7.execute(sql6)"
   ]
  },
  {
   "cell_type": "code",
   "execution_count": 42,
   "metadata": {},
   "outputs": [],
   "source": [
    "cursor7.execute(\"commit\")"
   ]
  },
  {
   "cell_type": "code",
   "execution_count": null,
   "metadata": {},
   "outputs": [],
   "source": []
  }
 ],
 "metadata": {
  "kernelspec": {
   "display_name": "Python 3",
   "language": "python",
   "name": "python3"
  },
  "language_info": {
   "codemirror_mode": {
    "name": "ipython",
    "version": 3
   },
   "file_extension": ".py",
   "mimetype": "text/x-python",
   "name": "python",
   "nbconvert_exporter": "python",
   "pygments_lexer": "ipython3",
   "version": "3.7.6"
  }
 },
 "nbformat": 4,
 "nbformat_minor": 4
}
