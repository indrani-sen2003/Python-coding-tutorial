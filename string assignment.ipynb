{
 "cells": [
  {
   "cell_type": "code",
   "execution_count": 1,
   "metadata": {},
   "outputs": [
    {
     "name": "stdout",
     "output_type": "stream",
     "text": [
      "Enter a string:Indrani\n",
      "inardnI\n"
     ]
    }
   ],
   "source": [
    "#program to check whether a given string is palindrome or not\n",
    "s=input(\"Enter a string:\")\n",
    "s2=\"\"\n",
    "for i in range(len(s)-1,-1,-1):\n",
    "    s2=s2+s[i]\n",
    "print(s2)"
   ]
  },
  {
   "cell_type": "code",
   "execution_count": 4,
   "metadata": {},
   "outputs": [
    {
     "name": "stdout",
     "output_type": "stream",
     "text": [
      "Enter a string:Indrani\n",
      "inardnI\n",
      "String is not palindrome\n"
     ]
    }
   ],
   "source": [
    "s=input(\"Enter a string:\")\n",
    "print(s[::-1])\n",
    "if s==s[::-1]:\n",
    "    print(\"String is palindrome\")\n",
    "else:\n",
    "    print(\"String is not palindrome\")"
   ]
  },
  {
   "cell_type": "code",
   "execution_count": 8,
   "metadata": {},
   "outputs": [
    {
     "name": "stdout",
     "output_type": "stream",
     "text": [
      "Enter a sentence:I love my country\n",
      "['I', 'love', 'my', 'country']\n"
     ]
    },
    {
     "data": {
      "text/plain": [
       "' I evol ym yrtnuoc'"
      ]
     },
     "execution_count": 8,
     "metadata": {},
     "output_type": "execute_result"
    }
   ],
   "source": [
    "#program to reverse the words in a given string\n",
    "s=input(\"Enter a sentence:\")\n",
    "\n",
    "li=s.split(\" \")\n",
    "print(li)\n",
    "s_new=\"\"\n",
    "for i in li:\n",
    "    s_new=s_new+ \" \" +i[::-1]\n",
    "s_new\n"
   ]
  },
  {
   "cell_type": "code",
   "execution_count": 9,
   "metadata": {},
   "outputs": [
    {
     "name": "stdout",
     "output_type": "stream",
     "text": [
      "Enter a stringSaketh Gunda\n",
      "Enter the position you want to remove?4\n",
      "Sakeh Gunda\n"
     ]
    }
   ],
   "source": [
    "#remove the ith character from the string in Python\n",
    "s=input(\"Enter a string\")\n",
    "n=int(input(\"Enter the position you want to remove?\"))\n",
    "s_new=\"\"\n",
    "for i in range(0,len(s)):\n",
    "    if i==n:\n",
    "        continue\n",
    "    s_new=s_new+s[i]\n",
    "print(s_new)"
   ]
  },
  {
   "cell_type": "code",
   "execution_count": null,
   "metadata": {},
   "outputs": [],
   "source": [
    "#Join the elements of a list using -"
   ]
  },
  {
   "cell_type": "code",
   "execution_count": null,
   "metadata": {},
   "outputs": [],
   "source": [
    "#Python program to print even length words in a string"
   ]
  },
  {
   "cell_type": "code",
   "execution_count": null,
   "metadata": {},
   "outputs": [],
   "source": [
    "#Pangram is a sentence containing every letter of the alphabet."
   ]
  },
  {
   "cell_type": "code",
   "execution_count": 2,
   "metadata": {},
   "outputs": [
    {
     "name": "stdout",
     "output_type": "stream",
     "text": [
      "\\\\\n"
     ]
    }
   ],
   "source": [
    "print(\"\\\\\\\\\")"
   ]
  },
  {
   "cell_type": "code",
   "execution_count": 3,
   "metadata": {},
   "outputs": [
    {
     "name": "stdout",
     "output_type": "stream",
     "text": [
      "1.3\n"
     ]
    }
   ],
   "source": [
    "print(float(\"1.3\"))"
   ]
  },
  {
   "cell_type": "code",
   "execution_count": null,
   "metadata": {},
   "outputs": [],
   "source": []
  }
 ],
 "metadata": {
  "kernelspec": {
   "display_name": "Python 3",
   "language": "python",
   "name": "python3"
  },
  "language_info": {
   "codemirror_mode": {
    "name": "ipython",
    "version": 3
   },
   "file_extension": ".py",
   "mimetype": "text/x-python",
   "name": "python",
   "nbconvert_exporter": "python",
   "pygments_lexer": "ipython3",
   "version": "3.7.6"
  }
 },
 "nbformat": 4,
 "nbformat_minor": 4
}
