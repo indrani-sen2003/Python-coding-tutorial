{
 "cells": [
  {
   "cell_type": "code",
   "execution_count": 12,
   "metadata": {},
   "outputs": [],
   "source": [
    "class student:\n",
    "    def __init__(self,r,n,m,s,e):\n",
    "        self.roll=r\n",
    "        self.name=n\n",
    "        self.maths=m\n",
    "        self.science=s\n",
    "        self.english=e\n",
    "      \n",
    "    def getdata(self):\n",
    "        self.roll=int(input(\"Enter roll:\"))\n",
    "        self.name=input(\"Enter name\")\n",
    "        self.maths=int(input(\"Enter Maths marks:\"))\n",
    "        self.science=int(input(\"Enter Science marks:\"))\n",
    "        self.english=int(input(\"Enter English marks?\"))\n",
    "    def dispdata(self):\n",
    "        print(\"Roll:\",self.roll)\n",
    "        print(\"Name:\",self.name)\n",
    "        print(\"Maths marks:\",self.maths)\n",
    "        print(\"Science marks:\",self.science)\n",
    "        print(\"English marks:\",self.english)\n",
    "\n",
    "studlist=[]\n",
    "\n",
    "        \n",
    "        "
   ]
  },
  {
   "cell_type": "code",
   "execution_count": 15,
   "metadata": {},
   "outputs": [
    {
     "ename": "AttributeError",
     "evalue": "'student' object has no attribute 'args'",
     "output_type": "error",
     "traceback": [
      "\u001b[1;31m---------------------------------------------------------------------------\u001b[0m",
      "\u001b[1;31mAttributeError\u001b[0m                            Traceback (most recent call last)",
      "\u001b[1;32m<ipython-input-15-8c75b4fbf9d8>\u001b[0m in \u001b[0;36m<module>\u001b[1;34m\u001b[0m\n\u001b[1;32m----> 1\u001b[1;33m \u001b[0ms\u001b[0m\u001b[1;33m=\u001b[0m\u001b[0mstudent\u001b[0m\u001b[1;33m(\u001b[0m\u001b[1;36m1\u001b[0m\u001b[1;33m,\u001b[0m\u001b[1;34m\"indrani\"\u001b[0m\u001b[1;33m,\u001b[0m\u001b[1;36m90\u001b[0m\u001b[1;33m,\u001b[0m\u001b[1;36m80\u001b[0m\u001b[1;33m,\u001b[0m\u001b[1;36m80\u001b[0m\u001b[1;33m)\u001b[0m\u001b[1;33m\u001b[0m\u001b[1;33m\u001b[0m\u001b[0m\n\u001b[0m\u001b[0;32m      2\u001b[0m \u001b[0ms\u001b[0m\u001b[1;33m.\u001b[0m\u001b[0mdispdata\u001b[0m\u001b[1;33m(\u001b[0m\u001b[1;33m)\u001b[0m\u001b[1;33m\u001b[0m\u001b[1;33m\u001b[0m\u001b[0m\n",
      "\u001b[1;32m<ipython-input-12-089280a7f7ef>\u001b[0m in \u001b[0;36m__init__\u001b[1;34m(self, r, n, m, s, e)\u001b[0m\n\u001b[0;32m      6\u001b[0m         \u001b[0mself\u001b[0m\u001b[1;33m.\u001b[0m\u001b[0mscience\u001b[0m\u001b[1;33m=\u001b[0m\u001b[0ms\u001b[0m\u001b[1;33m\u001b[0m\u001b[1;33m\u001b[0m\u001b[0m\n\u001b[0;32m      7\u001b[0m         \u001b[0mself\u001b[0m\u001b[1;33m.\u001b[0m\u001b[0menglish\u001b[0m\u001b[1;33m=\u001b[0m\u001b[0me\u001b[0m\u001b[1;33m\u001b[0m\u001b[1;33m\u001b[0m\u001b[0m\n\u001b[1;32m----> 8\u001b[1;33m         \u001b[0mprint\u001b[0m\u001b[1;33m(\u001b[0m\u001b[0mself\u001b[0m\u001b[1;33m.\u001b[0m\u001b[0margs\u001b[0m\u001b[1;33m)\u001b[0m\u001b[1;33m\u001b[0m\u001b[1;33m\u001b[0m\u001b[0m\n\u001b[0m\u001b[0;32m      9\u001b[0m     \u001b[1;32mdef\u001b[0m \u001b[0mgetdata\u001b[0m\u001b[1;33m(\u001b[0m\u001b[0mself\u001b[0m\u001b[1;33m)\u001b[0m\u001b[1;33m:\u001b[0m\u001b[1;33m\u001b[0m\u001b[1;33m\u001b[0m\u001b[0m\n\u001b[0;32m     10\u001b[0m         \u001b[0mself\u001b[0m\u001b[1;33m.\u001b[0m\u001b[0mroll\u001b[0m\u001b[1;33m=\u001b[0m\u001b[0mint\u001b[0m\u001b[1;33m(\u001b[0m\u001b[0minput\u001b[0m\u001b[1;33m(\u001b[0m\u001b[1;34m\"Enter roll:\"\u001b[0m\u001b[1;33m)\u001b[0m\u001b[1;33m)\u001b[0m\u001b[1;33m\u001b[0m\u001b[1;33m\u001b[0m\u001b[0m\n",
      "\u001b[1;31mAttributeError\u001b[0m: 'student' object has no attribute 'args'"
     ]
    }
   ],
   "source": [
    "s=student(1,\"indrani\",90,80,80)\n",
    "s.dispdata()\n"
   ]
  },
  {
   "cell_type": "code",
   "execution_count": 10,
   "metadata": {},
   "outputs": [
    {
     "name": "stdout",
     "output_type": "stream",
     "text": [
      "Enter roll:101\n",
      "Enter nameROhit\n",
      "Enter Maths marks:78\n",
      "Enter Science marks:90\n",
      "Enter English marks?89\n",
      "Enter roll:103\n",
      "Enter nameRumi\n",
      "Enter Maths marks:67\n",
      "Enter Science marks:78\n",
      "Enter English marks?56\n",
      "Enter roll:104\n",
      "Enter nameTina\n",
      "Enter Maths marks:80\n",
      "Enter Science marks:70\n",
      "Enter English marks?98\n",
      "Enter roll:105\n",
      "Enter nameRina\n",
      "Enter Maths marks:67\n",
      "Enter Science marks:79\n",
      "Enter English marks?68\n",
      "Enter roll:106\n",
      "Enter nameTommy\n",
      "Enter Maths marks:96\n",
      "Enter Science marks:85\n",
      "Enter English marks?76\n"
     ]
    }
   ],
   "source": [
    "for i in range(0,5):\n",
    "    s=student()\n",
    "    s.getdata()\n",
    "    studlist.append(s)"
   ]
  },
  {
   "cell_type": "code",
   "execution_count": 11,
   "metadata": {},
   "outputs": [
    {
     "name": "stdout",
     "output_type": "stream",
     "text": [
      "Roll: 101\n",
      "Name: ROhit\n",
      "Maths marks: 78\n",
      "Science marks: 90\n",
      "English marks: 89\n",
      "Roll: 103\n",
      "Name: Rumi\n",
      "Maths marks: 67\n",
      "Science marks: 78\n",
      "English marks: 56\n",
      "Roll: 104\n",
      "Name: Tina\n",
      "Maths marks: 80\n",
      "Science marks: 70\n",
      "English marks: 98\n",
      "Roll: 105\n",
      "Name: Rina\n",
      "Maths marks: 67\n",
      "Science marks: 79\n",
      "English marks: 68\n",
      "Roll: 106\n",
      "Name: Tommy\n",
      "Maths marks: 96\n",
      "Science marks: 85\n",
      "English marks: 76\n"
     ]
    }
   ],
   "source": [
    "for i in studlist:\n",
    "    i.dispdata()"
   ]
  },
  {
   "cell_type": "code",
   "execution_count": null,
   "metadata": {},
   "outputs": [],
   "source": []
  }
 ],
 "metadata": {
  "kernelspec": {
   "display_name": "Python 3",
   "language": "python",
   "name": "python3"
  },
  "language_info": {
   "codemirror_mode": {
    "name": "ipython",
    "version": 3
   },
   "file_extension": ".py",
   "mimetype": "text/x-python",
   "name": "python",
   "nbconvert_exporter": "python",
   "pygments_lexer": "ipython3",
   "version": "3.7.6"
  }
 },
 "nbformat": 4,
 "nbformat_minor": 4
}
